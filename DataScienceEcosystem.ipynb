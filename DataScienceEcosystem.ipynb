{
 "cells": [
  {
   "cell_type": "code",
   "execution_count": null,
   "id": "fb8b4e5c-a83a-4003-828e-4b4cc06277f6",
   "metadata": {},
   "outputs": [],
   "source": [
    "DataScienceEcosystem.ipynb"
   ]
  },
  {
   "cell_type": "markdown",
   "id": "3f7790b9-e331-421b-b655-9c2c2df1d0ec",
   "metadata": {},
   "source": [
    "# Data Science Tools and Ecosystem"
   ]
  },
  {
   "cell_type": "markdown",
   "id": "24c514d2-db2b-4d28-a385-3c28a4724e84",
   "metadata": {},
   "source": [
    "<blockquote>In this notebook, Data Science Tools and Ecosystem are summarized.</blockquote>"
   ]
  },
  {
   "cell_type": "markdown",
   "id": "79cb8ab3-59f7-4fd5-85e5-61df7b457c5b",
   "metadata": {},
   "source": [
    "__Objectives:__ <br>\n",
    "     -  List popular languages for Data Science <br>\n",
    "     -  Arithmetic expressions <br>\n",
    "     -  Popular Tools <br>\n",
    "     -  Popular Libraries</blockquote>"
   ]
  },
  {
   "cell_type": "markdown",
   "id": "27e3b14e-c797-4dbc-ad1c-d813e744f040",
   "metadata": {},
   "source": [
    "<blockquote>Some of the popular languages that Data Scientists use are: <br>\n",
    "    1. SQL <br>\n",
    "    2. Python <br>\n",
    "    3. R</blockquote>"
   ]
  },
  {
   "cell_type": "markdown",
   "id": "ddf6f746-73dc-4704-aa58-2c4e92c8aa56",
   "metadata": {},
   "source": [
    "<blockquote>Some of the commonly used libraries used by Data Scientists include: <br>\n",
    "    1. NumPy <br>\n",
    "    2. Pandas <br>\n",
    "    3. TensorFlow</blockquote>"
   ]
  },
  {
   "cell_type": "markdown",
   "id": "d4a37fcf-f182-4c92-92eb-fd575af4323b",
   "metadata": {},
   "source": [
    "|Data Science Tools|\n",
    "|:----------------:|\n",
    "|Apache Spark|\n",
    "|TensorFlow|\n",
    "|Weka|"
   ]
  },
  {
   "cell_type": "markdown",
   "id": "13eeebda-f64c-4958-bca0-d5f6f35262c1",
   "metadata": {},
   "source": [
    "## <blockquote>Below are a few examples of evaluating arithmetic expressions in Python: <br>\n",
    "    1. $a-b$ <br>\n",
    "    2. $\\frac{a}{b}$ <br>"
   ]
  },
  {
   "cell_type": "markdown",
   "id": "78c46c00-c3b0-4b03-b8bc-78a8d543f025",
   "metadata": {
    "tags": []
   },
   "source": [
    "<blockquote>This a simple arithmetic expression to multiply then add integers: (3*4)+5\n"
   ]
  },
  {
   "cell_type": "code",
   "execution_count": 3,
   "id": "55a3df85-8b04-45e3-89a5-d14c3092f0b5",
   "metadata": {
    "tags": []
   },
   "outputs": [
    {
     "data": {
      "text/plain": [
       "17"
      ]
     },
     "execution_count": 3,
     "metadata": {},
     "output_type": "execute_result"
    }
   ],
   "source": [
    "(3*4)+5"
   ]
  },
  {
   "cell_type": "markdown",
   "id": "c5e708a2-1f5f-4f1f-9374-a204a57e8b05",
   "metadata": {
    "tags": []
   },
   "source": [
    "<blockquote>This will convert 200 minutes to hours by dividing by 60\n"
   ]
  },
  {
   "cell_type": "code",
   "execution_count": 5,
   "id": "dca90250-9dc7-459e-b20d-f7185ad998aa",
   "metadata": {
    "tags": []
   },
   "outputs": [
    {
     "data": {
      "text/plain": [
       "3.3333333333333335"
      ]
     },
     "execution_count": 5,
     "metadata": {},
     "output_type": "execute_result"
    }
   ],
   "source": [
    "200/60"
   ]
  },
  {
   "cell_type": "markdown",
   "id": "cff82257-ef3d-455d-959a-74e7c1b0beab",
   "metadata": {},
   "source": [
    "## Author <br>\n",
    "Lourdes Devenney"
   ]
  },
  {
   "cell_type": "code",
   "execution_count": null,
   "id": "94f52e79-3bf3-401d-902c-51d52ed6f34f",
   "metadata": {},
   "outputs": [],
   "source": []
  }
 ],
 "metadata": {
  "kernelspec": {
   "display_name": "Python",
   "language": "python",
   "name": "conda-env-python-py"
  },
  "language_info": {
   "codemirror_mode": {
    "name": "ipython",
    "version": 3
   },
   "file_extension": ".py",
   "mimetype": "text/x-python",
   "name": "python",
   "nbconvert_exporter": "python",
   "pygments_lexer": "ipython3",
   "version": "3.7.12"
  }
 },
 "nbformat": 4,
 "nbformat_minor": 5
}
